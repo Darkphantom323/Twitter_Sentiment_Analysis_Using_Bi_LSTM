{
 "cells": [
  {
   "cell_type": "markdown",
   "id": "21defce7",
   "metadata": {},
   "source": [
    "# Twitter Sentiment Analysis \n",
    "\n",
    "The objective of this task is to detect hate speech in tweets. For the sake of simplicity, we say a tweet contains hate speech if it has a racist or sexist sentiment associated with it. So, the task is to classify racist or sexist tweets from other tweets.\n",
    "\n",
    "Formally, given a training sample of tweets and labels, where label '1' denotes the tweet is racist/sexist and label '0' denotes the tweet is not racist/sexist, your objective is to predict the labels on the test dataset.\n",
    "\n",
    "The dataset is at https://www.kaggle.com/datasets/arkhoshghalb/twitter-sentiment-analysis-hatred-speech \n"
   ]
  },
  {
   "cell_type": "markdown",
   "id": "a33eb5e4",
   "metadata": {
    "papermill": {
     "duration": 0.042345,
     "end_time": "2022-02-23T14:12:13.961950",
     "exception": false,
     "start_time": "2022-02-23T14:12:13.919605",
     "status": "completed"
    },
    "tags": []
   },
   "source": [
    "# **Importing libraries**"
   ]
  },
  {
   "cell_type": "code",
   "execution_count": 3,
   "id": "d1e15105",
   "metadata": {
    "execution": {
     "iopub.execute_input": "2022-02-23T14:12:14.047573Z",
     "iopub.status.busy": "2022-02-23T14:12:14.046055Z",
     "iopub.status.idle": "2022-02-23T14:12:15.545939Z",
     "shell.execute_reply": "2022-02-23T14:12:15.545038Z",
     "shell.execute_reply.started": "2022-02-23T12:20:50.969829Z"
    },
    "papermill": {
     "duration": 1.543422,
     "end_time": "2022-02-23T14:12:15.546134",
     "exception": false,
     "start_time": "2022-02-23T14:12:14.002712",
     "status": "completed"
    },
    "tags": []
   },
   "outputs": [
    {
     "name": "stderr",
     "output_type": "stream",
     "text": [
      "[nltk_data] Downloading package stopwords to\n",
      "[nltk_data]     C:\\Users\\thris\\AppData\\Roaming\\nltk_data...\n",
      "[nltk_data]   Package stopwords is already up-to-date!\n"
     ]
    }
   ],
   "source": [
    "import numpy as np\n",
    "import pandas as pd\n",
    "import matplotlib.pyplot as plt\n",
    "import seaborn as sns\n",
    "import re\n",
    "import nltk\n",
    "from nltk.corpus import stopwords\n",
    "nltk.download('stopwords')\n",
    "stop_words = set(stopwords.words('english'))\n",
    "from sklearn.model_selection import train_test_split\n",
    "from sklearn.feature_extraction.text import TfidfVectorizer\n",
    "from nltk.stem.porter import PorterStemmer\n",
    "from sklearn.naive_bayes import MultinomialNB\n",
    "from sklearn.metrics import confusion_matrix,accuracy_score, classification_report\n",
    "from sklearn.svm import LinearSVC\n",
    "from sklearn.linear_model import LogisticRegression"
   ]
  },
  {
   "cell_type": "code",
   "execution_count": 4,
   "id": "8b3eaf2a",
   "metadata": {
    "execution": {
     "iopub.execute_input": "2022-02-23T14:12:15.637764Z",
     "iopub.status.busy": "2022-02-23T14:12:15.637203Z",
     "iopub.status.idle": "2022-02-23T14:12:15.834115Z",
     "shell.execute_reply": "2022-02-23T14:12:15.833480Z",
     "shell.execute_reply.started": "2022-02-23T12:20:59.388834Z"
    },
    "papermill": {
     "duration": 0.24377,
     "end_time": "2022-02-23T14:12:15.834280",
     "exception": false,
     "start_time": "2022-02-23T14:12:15.590510",
     "status": "completed"
    },
    "tags": []
   },
   "outputs": [
    {
     "data": {
      "text/html": [
       "<div>\n",
       "<style scoped>\n",
       "    .dataframe tbody tr th:only-of-type {\n",
       "        vertical-align: middle;\n",
       "    }\n",
       "\n",
       "    .dataframe tbody tr th {\n",
       "        vertical-align: top;\n",
       "    }\n",
       "\n",
       "    .dataframe thead th {\n",
       "        text-align: right;\n",
       "    }\n",
       "</style>\n",
       "<table border=\"1\" class=\"dataframe\">\n",
       "  <thead>\n",
       "    <tr style=\"text-align: right;\">\n",
       "      <th></th>\n",
       "      <th>id</th>\n",
       "      <th>label</th>\n",
       "      <th>tweet</th>\n",
       "    </tr>\n",
       "  </thead>\n",
       "  <tbody>\n",
       "    <tr>\n",
       "      <th>0</th>\n",
       "      <td>1</td>\n",
       "      <td>0</td>\n",
       "      <td>@user when a father is dysfunctional and is s...</td>\n",
       "    </tr>\n",
       "    <tr>\n",
       "      <th>1</th>\n",
       "      <td>2</td>\n",
       "      <td>0</td>\n",
       "      <td>@user @user thanks for #lyft credit i can't us...</td>\n",
       "    </tr>\n",
       "    <tr>\n",
       "      <th>2</th>\n",
       "      <td>3</td>\n",
       "      <td>0</td>\n",
       "      <td>bihday your majesty</td>\n",
       "    </tr>\n",
       "    <tr>\n",
       "      <th>3</th>\n",
       "      <td>4</td>\n",
       "      <td>0</td>\n",
       "      <td>#model   i love u take with u all the time in ...</td>\n",
       "    </tr>\n",
       "    <tr>\n",
       "      <th>4</th>\n",
       "      <td>5</td>\n",
       "      <td>0</td>\n",
       "      <td>factsguide: society now    #motivation</td>\n",
       "    </tr>\n",
       "  </tbody>\n",
       "</table>\n",
       "</div>"
      ],
      "text/plain": [
       "   id  label                                              tweet\n",
       "0   1      0   @user when a father is dysfunctional and is s...\n",
       "1   2      0  @user @user thanks for #lyft credit i can't us...\n",
       "2   3      0                                bihday your majesty\n",
       "3   4      0  #model   i love u take with u all the time in ...\n",
       "4   5      0             factsguide: society now    #motivation"
      ]
     },
     "execution_count": 4,
     "metadata": {},
     "output_type": "execute_result"
    }
   ],
   "source": [
    "df_train = pd.read_csv('train.csv')\n",
    "df_test = pd.read_csv('test.csv')\n",
    "df_train.head()"
   ]
  },
  {
   "cell_type": "markdown",
   "id": "aa6ce6a8",
   "metadata": {
    "papermill": {
     "duration": 0.040146,
     "end_time": "2022-02-23T14:12:15.919079",
     "exception": false,
     "start_time": "2022-02-23T14:12:15.878933",
     "status": "completed"
    },
    "tags": []
   },
   "source": [
    "# **Examining the dataset**"
   ]
  },
  {
   "cell_type": "code",
   "execution_count": 6,
   "id": "38b97f2f",
   "metadata": {
    "execution": {
     "iopub.execute_input": "2022-02-23T14:12:16.010424Z",
     "iopub.status.busy": "2022-02-23T14:12:16.009747Z",
     "iopub.status.idle": "2022-02-23T14:12:16.012359Z",
     "shell.execute_reply": "2022-02-23T14:12:16.012858Z"
    },
    "papermill": {
     "duration": 0.053356,
     "end_time": "2022-02-23T14:12:16.012989",
     "exception": false,
     "start_time": "2022-02-23T14:12:15.959633",
     "status": "completed"
    },
    "tags": []
   },
   "outputs": [
    {
     "data": {
      "text/plain": [
       "0"
      ]
     },
     "execution_count": 6,
     "metadata": {},
     "output_type": "execute_result"
    }
   ],
   "source": [
    "#checking for null values\n",
    "df_train['tweet'].isna().sum()"
   ]
  },
  {
   "cell_type": "code",
   "execution_count": 7,
   "id": "1001c4ae",
   "metadata": {
    "execution": {
     "iopub.execute_input": "2022-02-23T14:12:16.145458Z",
     "iopub.status.busy": "2022-02-23T14:12:16.144685Z",
     "iopub.status.idle": "2022-02-23T14:12:16.147500Z",
     "shell.execute_reply": "2022-02-23T14:12:16.147950Z",
     "shell.execute_reply.started": "2022-02-23T12:21:12.554755Z"
    },
    "papermill": {
     "duration": 0.079743,
     "end_time": "2022-02-23T14:12:16.148083",
     "exception": false,
     "start_time": "2022-02-23T14:12:16.068340",
     "status": "completed"
    },
    "tags": []
   },
   "outputs": [
    {
     "data": {
      "text/plain": [
       "0    29720\n",
       "1     2242\n",
       "Name: label, dtype: int64"
      ]
     },
     "execution_count": 7,
     "metadata": {},
     "output_type": "execute_result"
    }
   ],
   "source": [
    "#checking count of labels\n",
    "df_train['label'].value_counts()"
   ]
  },
  {
   "cell_type": "markdown",
   "id": "10030c26",
   "metadata": {
    "papermill": {
     "duration": 0.040518,
     "end_time": "2022-02-23T14:12:16.233775",
     "exception": false,
     "start_time": "2022-02-23T14:12:16.193257",
     "status": "completed"
    },
    "tags": []
   },
   "source": [
    "The dataset is highly imbalanced"
   ]
  },
  {
   "cell_type": "code",
   "execution_count": 8,
   "id": "a3fb37f0",
   "metadata": {
    "execution": {
     "iopub.execute_input": "2022-02-23T14:12:16.318245Z",
     "iopub.status.busy": "2022-02-23T14:12:16.317499Z",
     "iopub.status.idle": "2022-02-23T14:12:16.516430Z",
     "shell.execute_reply": "2022-02-23T14:12:16.517001Z",
     "shell.execute_reply.started": "2022-02-23T12:21:17.096779Z"
    },
    "papermill": {
     "duration": 0.242891,
     "end_time": "2022-02-23T14:12:16.517154",
     "exception": false,
     "start_time": "2022-02-23T14:12:16.274263",
     "status": "completed"
    },
    "tags": []
   },
   "outputs": [
    {
     "data": {
      "text/plain": [
       "<AxesSubplot:ylabel='count'>"
      ]
     },
     "execution_count": 8,
     "metadata": {},
     "output_type": "execute_result"
    },
    {
     "data": {
      "image/png": "[encoded data removed]",
      "text/plain": [
       "<Figure size 432x288 with 1 Axes>"
      ]
     },
     "metadata": {
      "needs_background": "light"
     },
     "output_type": "display_data"
    }
   ],
   "source": [
    "sns.countplot(df_train['label'])"
   ]
  },
  {
   "cell_type": "code",
   "execution_count": 9,
   "id": "303023e6",
   "metadata": {
    "execution": {
     "iopub.execute_input": "2022-02-23T14:12:16.626268Z",
     "iopub.status.busy": "2022-02-23T14:12:16.613116Z",
     "iopub.status.idle": "2022-02-23T14:12:17.083230Z",
     "shell.execute_reply": "2022-02-23T14:12:17.083631Z",
     "shell.execute_reply.started": "2022-02-23T12:21:22.658502Z"
    },
    "papermill": {
     "duration": 0.523562,
     "end_time": "2022-02-23T14:12:17.083791",
     "exception": false,
     "start_time": "2022-02-23T14:12:16.560229",
     "status": "completed"
    },
    "tags": []
   },
   "outputs": [
    {
     "name": "stderr",
     "output_type": "stream",
     "text": [
      "C:\\Users\\thris\\AppData\\Local\\Temp\\ipykernel_50048\\2016089308.py:3: UserWarning: \n",
      "\n",
      "`distplot` is a deprecated function and will be removed in seaborn v0.14.0.\n",
      "\n",
      "Please adapt your code to use either `displot` (a figure-level function with\n",
      "similar flexibility) or `histplot` (an axes-level function for histograms).\n",
      "\n",
      "For a guide to updating your code to use the new functions, please see\n",
      "https://gist.github.com/mwaskom/de44147ed2974457ad6372750bbe5751\n",
      "\n",
      "  sns.distplot(lens)\n"
     ]
    },
    {
     "data": {
      "text/plain": [
       "<AxesSubplot:xlabel='tweet', ylabel='Density'>"
      ]
     },
     "execution_count": 9,
     "metadata": {},
     "output_type": "execute_result"
    },
    {
     "data": {
      "image/png": "[encoded data removed]",
      "text/plain": [
       "<Figure size 432x288 with 1 Axes>"
      ]
     },
     "metadata": {
      "needs_background": "light"
     },
     "output_type": "display_data"
    }
   ],
   "source": [
    "# finding length of tweets\n",
    "lens = df_train['tweet'].str.len()\n",
    "sns.distplot(lens)"
   ]
  },
  {
   "cell_type": "code",
   "execution_count": 8,
   "id": "3bcf9d30",
   "metadata": {
    "execution": {
     "iopub.execute_input": "2022-02-23T14:12:17.175198Z",
     "iopub.status.busy": "2022-02-23T14:12:17.174434Z",
     "iopub.status.idle": "2022-02-23T14:12:17.176382Z",
     "shell.execute_reply": "2022-02-23T14:12:17.176769Z",
     "shell.execute_reply.started": "2022-02-23T12:06:44.778196Z"
    },
    "papermill": {
     "duration": 0.049498,
     "end_time": "2022-02-23T14:12:17.176899",
     "exception": false,
     "start_time": "2022-02-23T14:12:17.127401",
     "status": "completed"
    },
    "tags": []
   },
   "outputs": [],
   "source": [
    "# np.median(df_train['tweet'].str.len())"
   ]
  },
  {
   "cell_type": "code",
   "execution_count": 10,
   "id": "4186eb21",
   "metadata": {
    "execution": {
     "iopub.execute_input": "2022-02-23T14:12:17.268599Z",
     "iopub.status.busy": "2022-02-23T14:12:17.268005Z",
     "iopub.status.idle": "2022-02-23T14:12:17.583463Z",
     "shell.execute_reply": "2022-02-23T14:12:17.583865Z"
    },
    "papermill": {
     "duration": 0.363658,
     "end_time": "2022-02-23T14:12:17.584018",
     "exception": false,
     "start_time": "2022-02-23T14:12:17.220360",
     "status": "completed"
    },
    "tags": []
   },
   "outputs": [
    {
     "data": {
      "text/plain": [
       "<AxesSubplot:>"
      ]
     },
     "execution_count": 10,
     "metadata": {},
     "output_type": "execute_result"
    },
    {
     "data": {
      "image/png": "[encoded data removed]",
      "text/plain": [
       "<Figure size 576x504 with 1 Axes>"
      ]
     },
     "metadata": {
      "needs_background": "light"
     },
     "output_type": "display_data"
    }
   ],
   "source": [
    "plt.figure(figsize=(8,7))\n",
    "lens.hist(bins = np.arange(0,200,50))"
   ]
  },
  {
   "cell_type": "markdown",
   "id": "5d0aee6b",
   "metadata": {
    "papermill": {
     "duration": 0.044382,
     "end_time": "2022-02-23T14:12:17.673142",
     "exception": false,
     "start_time": "2022-02-23T14:12:17.628760",
     "status": "completed"
    },
    "tags": []
   },
   "source": [
    "# **Data Preprocessing**"
   ]
  },
  {
   "cell_type": "code",
   "execution_count": 11,
   "id": "08218038",
   "metadata": {
    "execution": {
     "iopub.execute_input": "2022-02-23T14:12:17.817792Z",
     "iopub.status.busy": "2022-02-23T14:12:17.817070Z",
     "iopub.status.idle": "2022-02-23T14:12:17.831178Z",
     "shell.execute_reply": "2022-02-23T14:12:17.832526Z",
     "shell.execute_reply.started": "2022-02-23T12:21:40.430037Z"
    },
    "papermill": {
     "duration": 0.110282,
     "end_time": "2022-02-23T14:12:17.832760",
     "exception": false,
     "start_time": "2022-02-23T14:12:17.722478",
     "status": "completed"
    },
    "tags": []
   },
   "outputs": [],
   "source": [
    "df_train = df_train.drop('id', axis=1)\n",
    "df_test = df_test.drop('id', axis=1)"
   ]
  },
  {
   "cell_type": "code",
   "execution_count": 12,
   "id": "b8e69372",
   "metadata": {
    "execution": {
     "iopub.execute_input": "2022-02-23T14:12:17.990602Z",
     "iopub.status.busy": "2022-02-23T14:12:17.989802Z",
     "iopub.status.idle": "2022-02-23T14:12:17.993421Z",
     "shell.execute_reply": "2022-02-23T14:12:17.994207Z",
     "shell.execute_reply.started": "2022-02-23T12:02:48.995585Z"
    },
    "papermill": {
     "duration": 0.082234,
     "end_time": "2022-02-23T14:12:17.994406",
     "exception": false,
     "start_time": "2022-02-23T14:12:17.912172",
     "status": "completed"
    },
    "tags": []
   },
   "outputs": [],
   "source": [
    "# df_test"
   ]
  },
  {
   "cell_type": "code",
   "execution_count": 13,
   "id": "e57ff211",
   "metadata": {
    "execution": {
     "iopub.execute_input": "2022-02-23T14:12:18.165834Z",
     "iopub.status.busy": "2022-02-23T14:12:18.165033Z",
     "iopub.status.idle": "2022-02-23T14:12:18.168556Z",
     "shell.execute_reply": "2022-02-23T14:12:18.169495Z",
     "shell.execute_reply.started": "2022-02-23T12:21:43.993829Z"
    },
    "papermill": {
     "duration": 0.093184,
     "end_time": "2022-02-23T14:12:18.169684",
     "exception": false,
     "start_time": "2022-02-23T14:12:18.076500",
     "status": "completed"
    },
    "tags": []
   },
   "outputs": [],
   "source": [
    "import re\n",
    "def clean_text(text):\n",
    "    text = text.lower()\n",
    "    text = re.sub(r\"what's\", \"what is \", text)\n",
    "    text = re.sub(r\"\\'s\", \" \", text)\n",
    "    text = re.sub(r\"\\'ve\", \" have \", text)\n",
    "    text = re.sub(r\"can't\", \"can not \", text)\n",
    "    text = re.sub(r\"n't\", \" not \", text)\n",
    "    text = re.sub(r\"i'm\", \"i am \", text)\n",
    "    text = re.sub(r\"\\'re\", \" are \", text)\n",
    "    text = re.sub(r\"\\'d\", \" would \", text)\n",
    "    text = re.sub(r\"\\'ll\", \" will \", text)\n",
    "    text = re.sub(r\"\\'scuse\", \" excuse \", text)\n",
    "    text = re.sub('\\W', ' ', text)\n",
    "    text = re.sub('\\s+', ' ', text)\n",
    "    text = re.sub('[^A-Za-z0-9]+', ' ', text)\n",
    "    text = text.strip(' ')\n",
    "    return text"
   ]
  },
  {
   "cell_type": "code",
   "execution_count": 14,
   "id": "240b3b89",
   "metadata": {
    "execution": {
     "iopub.execute_input": "2022-02-23T14:12:18.361083Z",
     "iopub.status.busy": "2022-02-23T14:12:18.345703Z",
     "iopub.status.idle": "2022-02-23T14:12:20.091399Z",
     "shell.execute_reply": "2022-02-23T14:12:20.091821Z",
     "shell.execute_reply.started": "2022-02-23T12:21:59.265436Z"
    },
    "papermill": {
     "duration": 1.848348,
     "end_time": "2022-02-23T14:12:20.091982",
     "exception": false,
     "start_time": "2022-02-23T14:12:18.243634",
     "status": "completed"
    },
    "tags": []
   },
   "outputs": [
    {
     "data": {
      "text/plain": [
       "'user when a father is dysfunctional and is so selfish he drags his kids into his dysfunction run'"
      ]
     },
     "execution_count": 14,
     "metadata": {},
     "output_type": "execute_result"
    }
   ],
   "source": [
    "df_train['tweet'] = df_train['tweet'].map(lambda t: clean_text(t))\n",
    "df_test['tweet'] = df_test['tweet'].map(lambda t: clean_text(t))\n",
    "df_train['tweet'][0]"
   ]
  },
  {
   "cell_type": "code",
   "execution_count": 15,
   "id": "dcdb2955",
   "metadata": {
    "execution": {
     "iopub.execute_input": "2022-02-23T14:12:20.187672Z",
     "iopub.status.busy": "2022-02-23T14:12:20.186907Z",
     "iopub.status.idle": "2022-02-23T14:12:20.188844Z",
     "shell.execute_reply": "2022-02-23T14:12:20.189212Z",
     "shell.execute_reply.started": "2022-02-23T12:22:03.158506Z"
    },
    "papermill": {
     "duration": 0.051999,
     "end_time": "2022-02-23T14:12:20.189336",
     "exception": false,
     "start_time": "2022-02-23T14:12:20.137337",
     "status": "completed"
    },
    "tags": []
   },
   "outputs": [],
   "source": [
    "#removal of frequent words\n",
    "def freq_removal(df):\n",
    "    freq = pd.Series(' '.join(df['tweet']).split()).value_counts()[:10]\n",
    "    freq = list(freq.index)\n",
    "    \n",
    "    df['tweet'] = df['tweet'].apply(lambda x: \" \".join(x for x in x.split() if x not in freq))    "
   ]
  },
  {
   "cell_type": "code",
   "execution_count": 16,
   "id": "ceee157d",
   "metadata": {
    "execution": {
     "iopub.execute_input": "2022-02-23T14:12:20.416452Z",
     "iopub.status.busy": "2022-02-23T14:12:20.319146Z",
     "iopub.status.idle": "2022-02-23T14:12:20.560687Z",
     "shell.execute_reply": "2022-02-23T14:12:20.561204Z",
     "shell.execute_reply.started": "2022-02-23T12:22:07.725169Z"
    },
    "papermill": {
     "duration": 0.327199,
     "end_time": "2022-02-23T14:12:20.561405",
     "exception": false,
     "start_time": "2022-02-23T14:12:20.234206",
     "status": "completed"
    },
    "tags": []
   },
   "outputs": [
    {
     "name": "stdout",
     "output_type": "stream",
     "text": [
      "when father dysfunctional so selfish he drags his kids into his dysfunction run\n"
     ]
    }
   ],
   "source": [
    "freq_removal(df_train)\n",
    "print(df_train['tweet'][0])"
   ]
  },
  {
   "cell_type": "code",
   "execution_count": 17,
   "id": "787a7f32",
   "metadata": {
    "execution": {
     "iopub.execute_input": "2022-02-23T14:12:20.658966Z",
     "iopub.status.busy": "2022-02-23T14:12:20.658337Z",
     "iopub.status.idle": "2022-02-23T14:12:20.660589Z",
     "shell.execute_reply": "2022-02-23T14:12:20.660999Z",
     "shell.execute_reply.started": "2022-02-23T12:22:10.747597Z"
    },
    "papermill": {
     "duration": 0.053397,
     "end_time": "2022-02-23T14:12:20.661131",
     "exception": false,
     "start_time": "2022-02-23T14:12:20.607734",
     "status": "completed"
    },
    "tags": []
   },
   "outputs": [],
   "source": [
    "#removal of rare words\n",
    "def rare_removal(df):\n",
    "    rare = pd.Series(' '.join(df['tweet']).split()).value_counts()[-10:] \n",
    "    # we combine all the rows with \" \" .join() function and then split it and convert it into series\n",
    "    # then find the value count\n",
    "    rare = list(rare.index)\n",
    "    df['tweet'] = df['tweet'].apply(lambda x: \" \".join(x for x in x.split() if x not in rare))"
   ]
  },
  {
   "cell_type": "code",
   "execution_count": 18,
   "id": "93d41fbb",
   "metadata": {
    "execution": {
     "iopub.execute_input": "2022-02-23T14:12:20.756205Z",
     "iopub.status.busy": "2022-02-23T14:12:20.755389Z",
     "iopub.status.idle": "2022-02-23T14:12:20.990857Z",
     "shell.execute_reply": "2022-02-23T14:12:20.991448Z",
     "shell.execute_reply.started": "2022-02-23T12:22:14.482816Z"
    },
    "papermill": {
     "duration": 0.285002,
     "end_time": "2022-02-23T14:12:20.991658",
     "exception": false,
     "start_time": "2022-02-23T14:12:20.706656",
     "status": "completed"
    },
    "tags": []
   },
   "outputs": [
    {
     "name": "stdout",
     "output_type": "stream",
     "text": [
      "when father dysfunctional so selfish he drags his kids into his dysfunction run\n"
     ]
    }
   ],
   "source": [
    "rare_removal(df_train)\n",
    "print(df_train['tweet'][0])"
   ]
  },
  {
   "cell_type": "code",
   "execution_count": 19,
   "id": "23727615",
   "metadata": {
    "execution": {
     "iopub.execute_input": "2022-02-23T14:12:21.089680Z",
     "iopub.status.busy": "2022-02-23T14:12:21.088918Z",
     "iopub.status.idle": "2022-02-23T14:12:21.091283Z",
     "shell.execute_reply": "2022-02-23T14:12:21.090861Z",
     "shell.execute_reply.started": "2022-02-23T12:02:51.316263Z"
    },
    "papermill": {
     "duration": 0.051385,
     "end_time": "2022-02-23T14:12:21.091387",
     "exception": false,
     "start_time": "2022-02-23T14:12:21.040002",
     "status": "completed"
    },
    "tags": []
   },
   "outputs": [],
   "source": [
    "# len(set(\" \".join(train_corpus).split()))"
   ]
  },
  {
   "cell_type": "code",
   "execution_count": 20,
   "id": "398c8f75",
   "metadata": {
    "execution": {
     "iopub.execute_input": "2022-02-23T14:12:21.188570Z",
     "iopub.status.busy": "2022-02-23T14:12:21.187773Z",
     "iopub.status.idle": "2022-02-23T14:12:21.189842Z",
     "shell.execute_reply": "2022-02-23T14:12:21.190213Z",
     "shell.execute_reply.started": "2022-02-23T12:22:19.595791Z"
    },
    "papermill": {
     "duration": 0.05331,
     "end_time": "2022-02-23T14:12:21.190332",
     "exception": false,
     "start_time": "2022-02-23T14:12:21.137022",
     "status": "completed"
    },
    "tags": []
   },
   "outputs": [],
   "source": [
    "#stemming and removing stop-words\n",
    "stemmer=PorterStemmer()\n",
    "def stem_remove_sw(df,text_col):\n",
    "    corpus = []\n",
    "    for i in range(len(df)):\n",
    "        review = str(df[text_col][i])\n",
    "        review = review.split()\n",
    "        review = [stemmer.stem(word) for word in review if word not in stop_words]\n",
    "        review = \" \".join(review)\n",
    "        corpus.append(review)\n",
    "    return corpus"
   ]
  },
  {
   "cell_type": "code",
   "execution_count": 21,
   "id": "a25b90d1",
   "metadata": {
    "execution": {
     "iopub.execute_input": "2022-02-23T14:12:21.315233Z",
     "iopub.status.busy": "2022-02-23T14:12:21.299808Z",
     "iopub.status.idle": "2022-02-23T14:12:28.372059Z",
     "shell.execute_reply": "2022-02-23T14:12:28.372578Z",
     "shell.execute_reply.started": "2022-02-23T12:22:23.055686Z"
    },
    "papermill": {
     "duration": 7.136306,
     "end_time": "2022-02-23T14:12:28.372741",
     "exception": false,
     "start_time": "2022-02-23T14:12:21.236435",
     "status": "completed"
    },
    "tags": []
   },
   "outputs": [
    {
     "data": {
      "text/plain": [
       "'father dysfunct selfish drag kid dysfunct run'"
      ]
     },
     "execution_count": 21,
     "metadata": {},
     "output_type": "execute_result"
    }
   ],
   "source": [
    "train_corpus = stem_remove_sw(df_train, 'tweet')\n",
    "train_corpus[0]"
   ]
  },
  {
   "cell_type": "code",
   "execution_count": 22,
   "id": "63853c46",
   "metadata": {
    "execution": {
     "iopub.execute_input": "2022-02-23T14:12:28.467556Z",
     "iopub.status.busy": "2022-02-23T14:12:28.466770Z",
     "iopub.status.idle": "2022-02-23T14:12:29.983410Z",
     "shell.execute_reply": "2022-02-23T14:12:29.982941Z",
     "shell.execute_reply.started": "2022-02-23T12:22:29.670513Z"
    },
    "papermill": {
     "duration": 1.564651,
     "end_time": "2022-02-23T14:12:29.983589",
     "exception": false,
     "start_time": "2022-02-23T14:12:28.418938",
     "status": "completed"
    },
    "tags": []
   },
   "outputs": [],
   "source": [
    "#tfidf vectorizer\n",
    "tfv=TfidfVectorizer()\n",
    "X=tfv.fit_transform(train_corpus).toarray()\n",
    "Y=df_train[\"label\"]"
   ]
  },
  {
   "cell_type": "markdown",
   "id": "3a252d2d",
   "metadata": {
    "papermill": {
     "duration": 0.046301,
     "end_time": "2022-02-23T14:12:30.077177",
     "exception": false,
     "start_time": "2022-02-23T14:12:30.030876",
     "status": "completed"
    },
    "tags": []
   },
   "source": [
    "# **Splitting the data**"
   ]
  },
  {
   "cell_type": "code",
   "execution_count": 22,
   "id": "d26dbdde",
   "metadata": {
    "execution": {
     "iopub.execute_input": "2022-02-23T14:12:30.177477Z",
     "iopub.status.busy": "2022-02-23T14:12:30.176544Z",
     "iopub.status.idle": "2022-02-23T14:12:34.171324Z",
     "shell.execute_reply": "2022-02-23T14:12:34.170842Z",
     "shell.execute_reply.started": "2022-02-23T12:22:35.715268Z"
    },
    "papermill": {
     "duration": 4.048761,
     "end_time": "2022-02-23T14:12:34.171466",
     "exception": false,
     "start_time": "2022-02-23T14:12:30.122705",
     "status": "completed"
    },
    "tags": []
   },
   "outputs": [],
   "source": [
    "X_train, X_test, Y_train, Y_test = train_test_split(X,Y, test_size = 0.33, random_state = 42)"
   ]
  },
  {
   "cell_type": "markdown",
   "id": "d8794739",
   "metadata": {
    "papermill": {
     "duration": 0.049052,
     "end_time": "2022-02-23T14:12:34.266614",
     "exception": false,
     "start_time": "2022-02-23T14:12:34.217562",
     "status": "completed"
    },
    "tags": []
   },
   "source": [
    "# **Multinomial Naive Bayes**"
   ]
  },
  {
   "cell_type": "code",
   "execution_count": 23,
   "id": "52dbb808",
   "metadata": {
    "execution": {
     "iopub.execute_input": "2022-02-23T14:12:34.376116Z",
     "iopub.status.busy": "2022-02-23T14:12:34.375014Z",
     "iopub.status.idle": "2022-02-23T14:12:37.090768Z",
     "shell.execute_reply": "2022-02-23T14:12:37.091920Z",
     "shell.execute_reply.started": "2022-02-23T12:22:40.246401Z"
    },
    "papermill": {
     "duration": 2.776281,
     "end_time": "2022-02-23T14:12:37.092167",
     "exception": false,
     "start_time": "2022-02-23T14:12:34.315886",
     "status": "completed"
    },
    "tags": []
   },
   "outputs": [
    {
     "data": {
      "text/plain": [
       "0"
      ]
     },
     "execution_count": 23,
     "metadata": {},
     "output_type": "execute_result"
    }
   ],
   "source": [
    "nb = MultinomialNB()\n",
    "nb.fit(X_train, Y_train)\n",
    "y_pred = nb.predict(X_test)\n",
    "y_pred[0]"
   ]
  },
  {
   "cell_type": "code",
   "execution_count": 24,
   "id": "995cc05e",
   "metadata": {
    "execution": {
     "iopub.execute_input": "2022-02-23T14:12:37.248794Z",
     "iopub.status.busy": "2022-02-23T14:12:37.247951Z",
     "iopub.status.idle": "2022-02-23T14:12:37.264047Z",
     "shell.execute_reply": "2022-02-23T14:12:37.264523Z",
     "shell.execute_reply.started": "2022-02-23T12:22:45.725246Z"
    },
    "papermill": {
     "duration": 0.08557,
     "end_time": "2022-02-23T14:12:37.264682",
     "exception": false,
     "start_time": "2022-02-23T14:12:37.179112",
     "status": "completed"
    },
    "tags": []
   },
   "outputs": [
    {
     "name": "stdout",
     "output_type": "stream",
     "text": [
      "Accuracy of Naive Bayes is:  0.9372392870686386\n",
      "Confusion Matrix: \n",
      " [[9806  662]\n",
      " [   0   80]]\n"
     ]
    }
   ],
   "source": [
    "acc_nb = accuracy_score(y_pred, Y_test)\n",
    "print(\"Accuracy of Naive Bayes is: \",acc_nb )\n",
    "print(\"Confusion Matrix: \\n\", confusion_matrix(y_pred, Y_test))"
   ]
  },
  {
   "cell_type": "code",
   "execution_count": 25,
   "id": "a0c704a2",
   "metadata": {
    "execution": {
     "iopub.execute_input": "2022-02-23T14:12:37.370183Z",
     "iopub.status.busy": "2022-02-23T14:12:37.369376Z",
     "iopub.status.idle": "2022-02-23T14:12:37.385835Z",
     "shell.execute_reply": "2022-02-23T14:12:37.385376Z",
     "shell.execute_reply.started": "2022-02-23T12:22:49.767188Z"
    },
    "papermill": {
     "duration": 0.070124,
     "end_time": "2022-02-23T14:12:37.385953",
     "exception": false,
     "start_time": "2022-02-23T14:12:37.315829",
     "status": "completed"
    },
    "tags": []
   },
   "outputs": [
    {
     "name": "stdout",
     "output_type": "stream",
     "text": [
      "              precision    recall  f1-score   support\n",
      "\n",
      "           0       0.94      1.00      0.97      9806\n",
      "           1       1.00      0.11      0.19       742\n",
      "\n",
      "    accuracy                           0.94     10548\n",
      "   macro avg       0.97      0.55      0.58     10548\n",
      "weighted avg       0.94      0.94      0.91     10548\n",
      "\n"
     ]
    }
   ],
   "source": [
    "print(classification_report(Y_test, y_pred))"
   ]
  },
  {
   "cell_type": "markdown",
   "id": "959dde95",
   "metadata": {
    "papermill": {
     "duration": 0.048681,
     "end_time": "2022-02-23T14:12:37.485488",
     "exception": false,
     "start_time": "2022-02-23T14:12:37.436807",
     "status": "completed"
    },
    "tags": []
   },
   "source": [
    "# **Logistic Regression**"
   ]
  },
  {
   "cell_type": "code",
   "execution_count": 26,
   "id": "076443a5",
   "metadata": {
    "execution": {
     "iopub.execute_input": "2022-02-23T14:12:37.592412Z",
     "iopub.status.busy": "2022-02-23T14:12:37.591414Z",
     "iopub.status.idle": "2022-02-23T14:13:26.549686Z",
     "shell.execute_reply": "2022-02-23T14:13:26.550557Z",
     "shell.execute_reply.started": "2022-02-23T12:22:53.680348Z"
    },
    "papermill": {
     "duration": 49.015004,
     "end_time": "2022-02-23T14:13:26.550818",
     "exception": false,
     "start_time": "2022-02-23T14:12:37.535814",
     "status": "completed"
    },
    "tags": []
   },
   "outputs": [
    {
     "name": "stdout",
     "output_type": "stream",
     "text": [
      "Accuracy of Naive Bayes is:  0.94548729616989\n",
      "Confusion Matrix: \n",
      " [[9782  551]\n",
      " [  24  191]]\n"
     ]
    }
   ],
   "source": [
    "lr = LogisticRegression()\n",
    "lr.fit(X_train, Y_train)\n",
    "y_pred1 = lr.predict(X_test)\n",
    "acc_lr = accuracy_score(y_pred1, Y_test)\n",
    "print(\"Accuracy of Naive Bayes is: \",acc_lr )\n",
    "print(\"Confusion Matrix: \\n\", confusion_matrix(y_pred1, Y_test))"
   ]
  },
  {
   "cell_type": "code",
   "execution_count": 27,
   "id": "b3bc8bd0",
   "metadata": {
    "execution": {
     "iopub.execute_input": "2022-02-23T14:13:26.665664Z",
     "iopub.status.busy": "2022-02-23T14:13:26.664609Z",
     "iopub.status.idle": "2022-02-23T14:13:26.680018Z",
     "shell.execute_reply": "2022-02-23T14:13:26.680688Z",
     "shell.execute_reply.started": "2022-02-23T12:23:42.408591Z"
    },
    "papermill": {
     "duration": 0.073758,
     "end_time": "2022-02-23T14:13:26.680864",
     "exception": false,
     "start_time": "2022-02-23T14:13:26.607106",
     "status": "completed"
    },
    "tags": []
   },
   "outputs": [
    {
     "name": "stdout",
     "output_type": "stream",
     "text": [
      "              precision    recall  f1-score   support\n",
      "\n",
      "           0       0.95      1.00      0.97      9806\n",
      "           1       0.89      0.26      0.40       742\n",
      "\n",
      "    accuracy                           0.95     10548\n",
      "   macro avg       0.92      0.63      0.69     10548\n",
      "weighted avg       0.94      0.95      0.93     10548\n",
      "\n"
     ]
    }
   ],
   "source": [
    "print(classification_report(Y_test, y_pred1))"
   ]
  },
  {
   "cell_type": "markdown",
   "id": "e61203b4",
   "metadata": {
    "papermill": {
     "duration": 0.047577,
     "end_time": "2022-02-23T14:13:26.778823",
     "exception": false,
     "start_time": "2022-02-23T14:13:26.731246",
     "status": "completed"
    },
    "tags": []
   },
   "source": [
    "# **Linear SVC**"
   ]
  },
  {
   "cell_type": "code",
   "execution_count": 28,
   "id": "1cb4f12b",
   "metadata": {
    "execution": {
     "iopub.execute_input": "2022-02-23T14:13:26.880482Z",
     "iopub.status.busy": "2022-02-23T14:13:26.879550Z",
     "iopub.status.idle": "2022-02-23T14:13:30.109692Z",
     "shell.execute_reply": "2022-02-23T14:13:30.108480Z",
     "shell.execute_reply.started": "2022-02-23T12:23:42.447664Z"
    },
    "papermill": {
     "duration": 3.283449,
     "end_time": "2022-02-23T14:13:30.109918",
     "exception": false,
     "start_time": "2022-02-23T14:13:26.826469",
     "status": "completed"
    },
    "tags": []
   },
   "outputs": [
    {
     "name": "stdout",
     "output_type": "stream",
     "text": [
      "Accuracy of Naive Bayes is:  0.9621729237770194\n",
      "Confusion Matrix: \n",
      " [[9747  340]\n",
      " [  59  402]]\n"
     ]
    }
   ],
   "source": [
    "svc = LinearSVC()\n",
    "svc.fit(X_train, Y_train)\n",
    "y_pred2 = svc.predict(X_test)\n",
    "acc_svc = accuracy_score(y_pred2, Y_test)\n",
    "print(\"Accuracy of Naive Bayes is: \", acc_svc)\n",
    "print(\"Confusion Matrix: \\n\", confusion_matrix(y_pred2, Y_test))"
   ]
  },
  {
   "cell_type": "code",
   "execution_count": 29,
   "id": "a162872a",
   "metadata": {
    "execution": {
     "iopub.execute_input": "2022-02-23T14:13:30.258331Z",
     "iopub.status.busy": "2022-02-23T14:13:30.257508Z",
     "iopub.status.idle": "2022-02-23T14:13:30.273778Z",
     "shell.execute_reply": "2022-02-23T14:13:30.274351Z",
     "shell.execute_reply.started": "2022-02-23T12:23:45.703767Z"
    },
    "papermill": {
     "duration": 0.076797,
     "end_time": "2022-02-23T14:13:30.274541",
     "exception": false,
     "start_time": "2022-02-23T14:13:30.197744",
     "status": "completed"
    },
    "tags": []
   },
   "outputs": [
    {
     "name": "stdout",
     "output_type": "stream",
     "text": [
      "              precision    recall  f1-score   support\n",
      "\n",
      "           0       0.97      0.99      0.98      9806\n",
      "           1       0.87      0.54      0.67       742\n",
      "\n",
      "    accuracy                           0.96     10548\n",
      "   macro avg       0.92      0.77      0.82     10548\n",
      "weighted avg       0.96      0.96      0.96     10548\n",
      "\n"
     ]
    }
   ],
   "source": [
    "print(classification_report(Y_test, y_pred2))"
   ]
  },
  {
   "cell_type": "markdown",
   "id": "9b710417",
   "metadata": {
    "papermill": {
     "duration": 0.048143,
     "end_time": "2022-02-23T14:13:30.371889",
     "exception": false,
     "start_time": "2022-02-23T14:13:30.323746",
     "status": "completed"
    },
    "tags": []
   },
   "source": [
    "# **Comparing models**"
   ]
  },
  {
   "cell_type": "code",
   "execution_count": 30,
   "id": "339599e0",
   "metadata": {
    "execution": {
     "iopub.execute_input": "2022-02-23T14:13:30.477920Z",
     "iopub.status.busy": "2022-02-23T14:13:30.472396Z",
     "iopub.status.idle": "2022-02-23T14:13:30.624114Z",
     "shell.execute_reply": "2022-02-23T14:13:30.625040Z",
     "shell.execute_reply.started": "2022-02-23T12:23:45.740439Z"
    },
    "papermill": {
     "duration": 0.205233,
     "end_time": "2022-02-23T14:13:30.625300",
     "exception": false,
     "start_time": "2022-02-23T14:13:30.420067",
     "status": "completed"
    },
    "tags": []
   },
   "outputs": [
    {
     "data": {
      "image/png": "[encoded data removed]",
      "text/plain": [
       "<Figure size 432x288 with 1 Axes>"
      ]
     },
     "metadata": {},
     "output_type": "display_data"
    }
   ],
   "source": [
    "models = ['Multinomial NB', 'Logistic Regression', 'Linear SVC']\n",
    "model_acc = [acc_nb, acc_lr, acc_svc]\n",
    "sns.set_style(\"darkgrid\")\n",
    "sns.barplot(x = models, y=model_acc)\n",
    "# plt.grid()\n",
    "plt.show()"
   ]
  },
  {
   "cell_type": "markdown",
   "id": "34812a44",
   "metadata": {
    "papermill": {
     "duration": 0.048996,
     "end_time": "2022-02-23T14:13:30.732619",
     "exception": false,
     "start_time": "2022-02-23T14:13:30.683623",
     "status": "completed"
    },
    "tags": []
   },
   "source": [
    "# **Bidirectional LSTM**"
   ]
  },
  {
   "cell_type": "markdown",
   "id": "9da18286",
   "metadata": {
    "papermill": {
     "duration": 0.050841,
     "end_time": "2022-02-23T14:13:30.835484",
     "exception": false,
     "start_time": "2022-02-23T14:13:30.784643",
     "status": "completed"
    },
    "tags": []
   },
   "source": [
    "**importing libraries**"
   ]
  },
  {
   "cell_type": "code",
   "execution_count": 5,
   "id": "be16b73f",
   "metadata": {
    "execution": {
     "iopub.execute_input": "2022-02-23T14:13:30.940599Z",
     "iopub.status.busy": "2022-02-23T14:13:30.939950Z",
     "iopub.status.idle": "2022-02-23T14:13:35.919386Z",
     "shell.execute_reply": "2022-02-23T14:13:35.918232Z",
     "shell.execute_reply.started": "2022-02-23T12:23:53.983224Z"
    },
    "papermill": {
     "duration": 5.034221,
     "end_time": "2022-02-23T14:13:35.919589",
     "exception": false,
     "start_time": "2022-02-23T14:13:30.885368",
     "status": "completed"
    },
    "tags": []
   },
   "outputs": [],
   "source": [
    "from tensorflow.keras.layers import Embedding\n",
    "from tensorflow.keras.preprocessing.sequence import pad_sequences\n",
    "from tensorflow.keras.models import Sequential\n",
    "from tensorflow.keras.preprocessing.text import one_hot\n",
    "from tensorflow.keras.layers import LSTM\n",
    "from tensorflow.keras.layers import Dense\n",
    "from tensorflow.keras.layers import Bidirectional\n",
    "from tensorflow.keras.layers import Dropout"
   ]
  },
  {
   "cell_type": "markdown",
   "id": "1f40e2d9",
   "metadata": {
    "papermill": {
     "duration": 0.05211,
     "end_time": "2022-02-23T14:13:36.023486",
     "exception": false,
     "start_time": "2022-02-23T14:13:35.971376",
     "status": "completed"
    },
    "tags": []
   },
   "source": [
    "# **One Hot Representation**"
   ]
  },
  {
   "cell_type": "markdown",
   "id": "4a184e4d",
   "metadata": {
    "papermill": {
     "duration": 0.049303,
     "end_time": "2022-02-23T14:13:36.124891",
     "exception": false,
     "start_time": "2022-02-23T14:13:36.075588",
     "status": "completed"
    },
    "tags": []
   },
   "source": [
    "After getting the corpus, we convert it to one hot encoded value. Each word will be replaced by its corresponding index."
   ]
  },
  {
   "cell_type": "code",
   "execution_count": 23,
   "id": "ae7d17a5",
   "metadata": {
    "execution": {
     "iopub.execute_input": "2022-02-23T14:13:36.276353Z",
     "iopub.status.busy": "2022-02-23T14:13:36.274702Z",
     "iopub.status.idle": "2022-02-23T14:13:36.278729Z",
     "shell.execute_reply": "2022-02-23T14:13:36.278240Z",
     "shell.execute_reply.started": "2022-02-23T12:24:05.445458Z"
    },
    "papermill": {
     "duration": 0.104268,
     "end_time": "2022-02-23T14:13:36.278867",
     "exception": false,
     "start_time": "2022-02-23T14:13:36.174599",
     "status": "completed"
    },
    "tags": []
   },
   "outputs": [
    {
     "name": "stdout",
     "output_type": "stream",
     "text": [
      "32852\n"
     ]
    }
   ],
   "source": [
    "print(len(set(\" \".join(train_corpus).split())))"
   ]
  },
  {
   "cell_type": "markdown",
   "id": "15c0eb96",
   "metadata": {
    "papermill": {
     "duration": 0.049643,
     "end_time": "2022-02-23T14:13:36.378932",
     "exception": false,
     "start_time": "2022-02-23T14:13:36.329289",
     "status": "completed"
    },
    "tags": []
   },
   "source": [
    "setting the length of voc_size (size of dictionary for indexing the words) according to the number of unique words in the complete corpus"
   ]
  },
  {
   "cell_type": "code",
   "execution_count": 24,
   "id": "ad2b23a4",
   "metadata": {
    "execution": {
     "iopub.execute_input": "2022-02-23T14:13:36.483011Z",
     "iopub.status.busy": "2022-02-23T14:13:36.482191Z",
     "iopub.status.idle": "2022-02-23T14:13:36.484677Z",
     "shell.execute_reply": "2022-02-23T14:13:36.484220Z",
     "shell.execute_reply.started": "2022-02-23T12:24:08.755431Z"
    },
    "papermill": {
     "duration": 0.055848,
     "end_time": "2022-02-23T14:13:36.484802",
     "exception": false,
     "start_time": "2022-02-23T14:13:36.428954",
     "status": "completed"
    },
    "tags": []
   },
   "outputs": [],
   "source": [
    "voc_size = 30000"
   ]
  },
  {
   "cell_type": "code",
   "execution_count": 25,
   "id": "2e855153",
   "metadata": {
    "execution": {
     "iopub.execute_input": "2022-02-23T14:13:36.592400Z",
     "iopub.status.busy": "2022-02-23T14:13:36.591635Z",
     "iopub.status.idle": "2022-02-23T14:13:36.967355Z",
     "shell.execute_reply": "2022-02-23T14:13:36.967820Z",
     "shell.execute_reply.started": "2022-02-23T12:24:13.430698Z"
    },
    "papermill": {
     "duration": 0.433687,
     "end_time": "2022-02-23T14:13:36.967987",
     "exception": false,
     "start_time": "2022-02-23T14:13:36.534300",
     "status": "completed"
    },
    "tags": []
   },
   "outputs": [
    {
     "data": {
      "text/plain": [
       "[6890, 19603, 18797, 25287, 24184, 19603, 29996]"
      ]
     },
     "execution_count": 25,
     "metadata": {},
     "output_type": "execute_result"
    }
   ],
   "source": [
    "onehot_repr=[one_hot(words,voc_size)for words in train_corpus] \n",
    "onehot_repr[0]"
   ]
  },
  {
   "cell_type": "markdown",
   "id": "44d33bfc",
   "metadata": {
    "papermill": {
     "duration": 0.050404,
     "end_time": "2022-02-23T14:13:37.068481",
     "exception": false,
     "start_time": "2022-02-23T14:13:37.018077",
     "status": "completed"
    },
    "tags": []
   },
   "source": [
    "Earlier when we plotted the graph for distrbution of length of sentences, we can see that median is around 70-80. So, 'sent_length' is set to 70. <br>\n",
    "All sentences less than 70 will be padded with zeroes and greater than 70 will be truncated"
   ]
  },
  {
   "cell_type": "code",
   "execution_count": 26,
   "id": "7f5b437b",
   "metadata": {
    "execution": {
     "iopub.execute_input": "2022-02-23T14:13:37.178251Z",
     "iopub.status.busy": "2022-02-23T14:13:37.177127Z",
     "iopub.status.idle": "2022-02-23T14:13:37.320429Z",
     "shell.execute_reply": "2022-02-23T14:13:37.321063Z",
     "shell.execute_reply.started": "2022-02-23T12:24:20.122615Z"
    },
    "papermill": {
     "duration": 0.202596,
     "end_time": "2022-02-23T14:13:37.321282",
     "exception": false,
     "start_time": "2022-02-23T14:13:37.118686",
     "status": "completed"
    },
    "tags": []
   },
   "outputs": [
    {
     "name": "stdout",
     "output_type": "stream",
     "text": [
      "[    0     0     0     0     0     0     0     0     0     0     0     0\n",
      "     0     0     0     0     0     0     0     0     0     0     0     0\n",
      "     0     0     0     0     0     0     0     0     0     0     0     0\n",
      "     0     0     0     0     0     0     0     0     0     0     0     0\n",
      "     0     0     0     0     0     0     0     0     0     0     0     0\n",
      "     0     0     0  6890 19603 18797 25287 24184 19603 29996]\n"
     ]
    }
   ],
   "source": [
    "sent_length=70\n",
    "embedded_docs=pad_sequences(onehot_repr,padding='pre',maxlen=sent_length)\n",
    "print(embedded_docs[0])"
   ]
  },
  {
   "cell_type": "code",
   "execution_count": 27,
   "id": "e58e23d8",
   "metadata": {
    "execution": {
     "iopub.execute_input": "2022-02-23T14:13:37.436006Z",
     "iopub.status.busy": "2022-02-23T14:13:37.435391Z",
     "iopub.status.idle": "2022-02-23T14:13:40.126287Z",
     "shell.execute_reply": "2022-02-23T14:13:40.125562Z",
     "shell.execute_reply.started": "2022-02-23T12:24:25.661005Z"
    },
    "papermill": {
     "duration": 2.750861,
     "end_time": "2022-02-23T14:13:40.126489",
     "exception": false,
     "start_time": "2022-02-23T14:13:37.375628",
     "status": "completed"
    },
    "tags": []
   },
   "outputs": [
    {
     "name": "stdout",
     "output_type": "stream",
     "text": [
      "Model: \"sequential\"\n",
      "_________________________________________________________________\n",
      " Layer (type)                Output Shape              Param #   \n",
      "=================================================================\n",
      " embedding (Embedding)       (None, 70, 40)            1200000   \n",
      "                                                                 \n",
      " bidirectional (Bidirection  (None, 200)               112800    \n",
      " al)                                                             \n",
      "                                                                 \n",
      " dropout (Dropout)           (None, 200)               0         \n",
      "                                                                 \n",
      " dense (Dense)               (None, 1)                 201       \n",
      "                                                                 \n",
      "=================================================================\n",
      "Total params: 1313001 (5.01 MB)\n",
      "Trainable params: 1313001 (5.01 MB)\n",
      "Non-trainable params: 0 (0.00 Byte)\n",
      "_________________________________________________________________\n",
      "None\n"
     ]
    }
   ],
   "source": [
    "## Creating a bidirectional LSTM model\n",
    "embedding_vector_features=40\n",
    "model1=Sequential()\n",
    "model1.add(Embedding(voc_size,embedding_vector_features,input_length=sent_length))\n",
    "model1.add(Bidirectional(LSTM(100)))\n",
    "model1.add(Dropout(0.3))\n",
    "model1.add(Dense(1,activation='sigmoid'))\n",
    "model1.compile(loss='binary_crossentropy',optimizer='adam',metrics=['accuracy'])\n",
    "print(model1.summary())"
   ]
  },
  {
   "cell_type": "code",
   "execution_count": 28,
   "id": "cb28e551",
   "metadata": {
    "execution": {
     "iopub.execute_input": "2022-02-23T14:13:40.238106Z",
     "iopub.status.busy": "2022-02-23T14:13:40.237191Z",
     "iopub.status.idle": "2022-02-23T14:13:40.243209Z",
     "shell.execute_reply": "2022-02-23T14:13:40.244192Z",
     "shell.execute_reply.started": "2022-02-23T12:24:35.231814Z"
    },
    "papermill": {
     "duration": 0.06276,
     "end_time": "2022-02-23T14:13:40.244373",
     "exception": false,
     "start_time": "2022-02-23T14:13:40.181613",
     "status": "completed"
    },
    "tags": []
   },
   "outputs": [],
   "source": [
    "X_lstm=np.array(embedded_docs)\n",
    "Y_lstm = Y"
   ]
  },
  {
   "cell_type": "code",
   "execution_count": 29,
   "id": "30ff7530",
   "metadata": {
    "execution": {
     "iopub.execute_input": "2022-02-23T14:13:40.360285Z",
     "iopub.status.busy": "2022-02-23T14:13:40.358328Z",
     "iopub.status.idle": "2022-02-23T14:13:40.372467Z",
     "shell.execute_reply": "2022-02-23T14:13:40.371791Z",
     "shell.execute_reply.started": "2022-02-23T12:24:38.469303Z"
    },
    "papermill": {
     "duration": 0.072982,
     "end_time": "2022-02-23T14:13:40.372632",
     "exception": false,
     "start_time": "2022-02-23T14:13:40.299650",
     "status": "completed"
    },
    "tags": []
   },
   "outputs": [],
   "source": [
    "x_train, x_test, y_train, y_test = train_test_split(X_lstm, Y_lstm, test_size=0.33, random_state=42)"
   ]
  },
  {
   "cell_type": "code",
   "execution_count": 30,
   "id": "c58e3edc",
   "metadata": {},
   "outputs": [],
   "source": [
    "# Plot training history\n",
    "def plot_history(history):\n",
    "    plt.plot(history.history['accuracy'], label='accuracy')\n",
    "    plt.plot(history.history['val_accuracy'], label = 'val_accuracy')\n",
    "    plt.xlabel('Epoch')\n",
    "    plt.ylabel('Accuracy')\n",
    "    plt.ylim([0, 1])\n",
    "    plt.legend(loc='lower right')\n",
    "    plt.show()\n",
    "\n",
    "    plt.plot(history.history['loss'], label='loss')\n",
    "    plt.plot(history.history['val_loss'], label='val_loss')\n",
    "    plt.xlabel('Epoch')\n",
    "    plt.ylabel('Loss')\n",
    "    plt.legend(loc='lower right')\n",
    "    plt.show()\n"
   ]
  },
  {
   "cell_type": "code",
   "execution_count": 31,
   "id": "33ce9e38",
   "metadata": {
    "execution": {
     "iopub.execute_input": "2022-02-23T14:13:40.499082Z",
     "iopub.status.busy": "2022-02-23T14:13:40.498082Z",
     "iopub.status.idle": "2022-02-23T14:15:05.330156Z",
     "shell.execute_reply": "2022-02-23T14:15:05.330598Z",
     "shell.execute_reply.started": "2022-02-23T12:24:42.365818Z"
    },
    "papermill": {
     "duration": 84.897523,
     "end_time": "2022-02-23T14:15:05.330758",
     "exception": false,
     "start_time": "2022-02-23T14:13:40.433235",
     "status": "completed"
    },
    "scrolled": true,
    "tags": []
   },
   "outputs": [
    {
     "name": "stdout",
     "output_type": "stream",
     "text": [
      "Epoch 1/10\n",
      "335/335 [==============================] - 65s 178ms/step - loss: 0.1966 - accuracy: 0.9396 - val_loss: 0.1421 - val_accuracy: 0.9508\n",
      "Epoch 2/10\n",
      "335/335 [==============================] - 59s 178ms/step - loss: 0.0820 - accuracy: 0.9707 - val_loss: 0.1322 - val_accuracy: 0.9570\n",
      "Epoch 3/10\n",
      "335/335 [==============================] - 60s 179ms/step - loss: 0.0454 - accuracy: 0.9851 - val_loss: 0.1509 - val_accuracy: 0.9534\n",
      "Epoch 4/10\n",
      "335/335 [==============================] - 60s 178ms/step - loss: 0.0291 - accuracy: 0.9908 - val_loss: 0.1891 - val_accuracy: 0.9549\n",
      "Epoch 5/10\n",
      "335/335 [==============================] - 62s 184ms/step - loss: 0.0184 - accuracy: 0.9948 - val_loss: 0.2120 - val_accuracy: 0.9496\n",
      "Epoch 6/10\n",
      "335/335 [==============================] - 63s 187ms/step - loss: 0.0133 - accuracy: 0.9965 - val_loss: 0.2182 - val_accuracy: 0.9486\n",
      "Epoch 7/10\n",
      "335/335 [==============================] - 62s 184ms/step - loss: 0.0097 - accuracy: 0.9976 - val_loss: 0.2559 - val_accuracy: 0.9489\n",
      "Epoch 8/10\n",
      "335/335 [==============================] - 61s 183ms/step - loss: 0.0077 - accuracy: 0.9981 - val_loss: 0.2837 - val_accuracy: 0.9522\n",
      "Epoch 9/10\n",
      "335/335 [==============================] - 61s 184ms/step - loss: 0.0075 - accuracy: 0.9981 - val_loss: 0.2946 - val_accuracy: 0.9418\n",
      "Epoch 10/10\n",
      "335/335 [==============================] - 61s 182ms/step - loss: 0.0057 - accuracy: 0.9986 - val_loss: 0.3051 - val_accuracy: 0.9511\n"
     ]
    }
   ],
   "source": [
    "history = model1.fit(x_train,y_train,validation_data=(x_test,y_test),epochs=10,batch_size=64)"
   ]
  },
  {
   "cell_type": "code",
   "execution_count": 32,
   "id": "78b109d2",
   "metadata": {},
   "outputs": [
    {
     "data": {
      "image/png": "[encoded data removed]",
      "text/plain": [
       "<Figure size 432x288 with 1 Axes>"
      ]
     },
     "metadata": {
      "needs_background": "light"
     },
     "output_type": "display_data"
    },
    {
     "data": {
      "image/png": "[encoded data removed]",
      "text/plain": [
       "<Figure size 432x288 with 1 Axes>"
      ]
     },
     "metadata": {
      "needs_background": "light"
     },
     "output_type": "display_data"
    }
   ],
   "source": [
    "# Plot training history\n",
    "plot_history(history)"
   ]
  },
  {
   "cell_type": "markdown",
   "id": "95af7a07",
   "metadata": {},
   "source": [
    "The model is Overfit for Bi-LSTM"
   ]
  },
  {
   "cell_type": "code",
   "execution_count": 33,
   "id": "aebf0d80",
   "metadata": {
    "execution": {
     "iopub.execute_input": "2022-02-23T14:15:05.904301Z",
     "iopub.status.busy": "2022-02-23T14:15:05.901793Z",
     "iopub.status.idle": "2022-02-23T14:15:07.623715Z",
     "shell.execute_reply": "2022-02-23T14:15:07.622752Z",
     "shell.execute_reply.started": "2022-02-23T12:25:32.016278Z"
    },
    "papermill": {
     "duration": 2.029587,
     "end_time": "2022-02-23T14:15:07.623884",
     "exception": false,
     "start_time": "2022-02-23T14:15:05.594297",
     "status": "completed"
    },
    "tags": []
   },
   "outputs": [
    {
     "name": "stdout",
     "output_type": "stream",
     "text": [
      "330/330 [==============================] - 11s 30ms/step\n",
      "Accuracy Score:  0.9510807736063709\n",
      "Confusion Matrix: \n",
      " [[9596  210]\n",
      " [ 306  436]]\n",
      "              precision    recall  f1-score   support\n",
      "\n",
      "           0       0.97      0.98      0.97      9806\n",
      "           1       0.67      0.59      0.63       742\n",
      "\n",
      "    accuracy                           0.95     10548\n",
      "   macro avg       0.82      0.78      0.80     10548\n",
      "weighted avg       0.95      0.95      0.95     10548\n",
      "\n"
     ]
    }
   ],
   "source": [
    "y_pred_lstm=model1.predict(x_test)\n",
    "y_pred_lstm = np.round(abs(y_pred_lstm))\n",
    "print(\"Accuracy Score: \", accuracy_score(y_test, y_pred_lstm))\n",
    "print(\"Confusion Matrix: \\n\", confusion_matrix(y_test,y_pred_lstm))\n",
    "print(classification_report(y_test,y_pred_lstm))"
   ]
  },
  {
   "cell_type": "code",
   "execution_count": null,
   "id": "5a61b969",
   "metadata": {},
   "outputs": [],
   "source": []
  }
 ],
 "metadata": {
  "kernelspec": {
   "display_name": "Python 3 (ipykernel)",
   "language": "python",
   "name": "python3"
  },
  "language_info": {
   "codemirror_mode": {
    "name": "ipython",
    "version": 3
   },
   "file_extension": ".py",
   "mimetype": "text/x-python",
   "name": "python",
   "nbconvert_exporter": "python",
   "pygments_lexer": "ipython3",
   "version": "3.10.5"
  },
  "papermill": {
   "default_parameters": {},
   "duration": 185.606177,
   "end_time": "2022-02-23T14:15:11.679181",
   "environment_variables": {},
   "exception": null,
   "input_path": "__notebook__.ipynb",
   "output_path": "__notebook__.ipynb",
   "parameters": {},
   "start_time": "2022-02-23T14:12:06.073004",
   "version": "2.3.3"
  }
 },
 "nbformat": 4,
 "nbformat_minor": 5
}
